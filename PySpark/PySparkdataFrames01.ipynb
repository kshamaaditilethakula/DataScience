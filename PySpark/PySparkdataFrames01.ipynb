{
  "cells": [
    {
      "cell_type": "code",
      "execution_count": 101,
      "metadata": {
        "id": "1XToCi3QP4rH"
      },
      "outputs": [],
      "source": [
        "from pyspark.sql import SparkSession"
      ]
    },
    {
      "cell_type": "code",
      "execution_count": 102,
      "metadata": {
        "id": "KTrP2VH2QAdn"
      },
      "outputs": [],
      "source": [
        "spark = SparkSession.builder.appName('Practise').getOrCreate()"
      ]
    },
    {
      "cell_type": "code",
      "execution_count": 103,
      "metadata": {
        "colab": {
          "base_uri": "https://localhost:8080/",
          "height": 221
        },
        "id": "Jhx38GZGQP84",
        "outputId": "3e96a779-15d6-446b-d4ab-a2707973f457"
      },
      "outputs": [
        {
          "data": {
            "text/html": [
              "\n",
              "            <div>\n",
              "                <p><b>SparkSession - in-memory</b></p>\n",
              "                \n",
              "        <div>\n",
              "            <p><b>SparkContext</b></p>\n",
              "\n",
              "            <p><a href=\"http://5f338fcb2101:4040\">Spark UI</a></p>\n",
              "\n",
              "            <dl>\n",
              "              <dt>Version</dt>\n",
              "                <dd><code>v3.5.3</code></dd>\n",
              "              <dt>Master</dt>\n",
              "                <dd><code>local[*]</code></dd>\n",
              "              <dt>AppName</dt>\n",
              "                <dd><code>Practise</code></dd>\n",
              "            </dl>\n",
              "        </div>\n",
              "        \n",
              "            </div>\n",
              "        "
            ],
            "text/plain": [
              "<pyspark.sql.session.SparkSession at 0x7d689cf09720>"
            ]
          },
          "execution_count": 103,
          "metadata": {},
          "output_type": "execute_result"
        }
      ],
      "source": [
        "spark"
      ]
    },
    {
      "cell_type": "code",
      "execution_count": 128,
      "metadata": {
        "id": "cEN0Sw4UQSR6"
      },
      "outputs": [],
      "source": [
        "# Read the data set\n",
        "df_pyspark = spark.read.option('header', 'true').csv('apple_products.csv', inferSchema = True)"
      ]
    },
    {
      "cell_type": "code",
      "execution_count": 105,
      "metadata": {
        "colab": {
          "base_uri": "https://localhost:8080/"
        },
        "id": "rQ4NTj8bQ7Pl",
        "outputId": "39077e80-ae5b-461b-cd08-61a1ffb53cd5"
      },
      "outputs": [
        {
          "name": "stdout",
          "output_type": "stream",
          "text": [
            "root\n",
            " |-- Product Name: string (nullable = true)\n",
            " |-- Product URL: string (nullable = true)\n",
            " |-- Brand: string (nullable = true)\n",
            " |-- Sale Price: integer (nullable = true)\n",
            " |-- Mrp: integer (nullable = true)\n",
            " |-- Discount Percentage: integer (nullable = true)\n",
            " |-- Number Of Ratings: integer (nullable = true)\n",
            " |-- Number Of Reviews: integer (nullable = true)\n",
            " |-- Upc: string (nullable = true)\n",
            " |-- Star Rating: double (nullable = true)\n",
            " |-- Ram: string (nullable = true)\n",
            "\n"
          ]
        }
      ],
      "source": [
        "# Check the schema which helps identify column types\n",
        "\n",
        "df_pyspark.printSchema()"
      ]
    },
    {
      "cell_type": "code",
      "execution_count": 106,
      "metadata": {
        "colab": {
          "base_uri": "https://localhost:8080/"
        },
        "id": "Xhz5M-2vRUv4",
        "outputId": "798f3a1e-2276-4339-ea5a-ed0ebb792660"
      },
      "outputs": [
        {
          "name": "stdout",
          "output_type": "stream",
          "text": [
            "+--------------------+--------------------+-----+----------+------+-------------------+-----------------+-----------------+----------------+-----------+----+\n",
            "|        Product Name|         Product URL|Brand|Sale Price|   Mrp|Discount Percentage|Number Of Ratings|Number Of Reviews|             Upc|Star Rating| Ram|\n",
            "+--------------------+--------------------+-----+----------+------+-------------------+-----------------+-----------------+----------------+-----------+----+\n",
            "|APPLE iPhone 8 Pl...|https://www.flipk...|Apple|     49900| 49900|                  0|             3431|              356|MOBEXRGV7EHHTGUH|        4.6|2 GB|\n",
            "|APPLE iPhone 8 Pl...|https://www.flipk...|Apple|     84900| 84900|                  0|             3431|              356|MOBEXRGVAC6TJT4F|        4.6|2 GB|\n",
            "|APPLE iPhone 8 Pl...|https://www.flipk...|Apple|     84900| 84900|                  0|             3431|              356|MOBEXRGVGETABXWZ|        4.6|2 GB|\n",
            "|APPLE iPhone 8 (S...|https://www.flipk...|Apple|     77000| 77000|                  0|            11202|              794|MOBEXRGVMZWUHCBA|        4.5|2 GB|\n",
            "|APPLE iPhone 8 (G...|https://www.flipk...|Apple|     77000| 77000|                  0|            11202|              794|MOBEXRGVPK7PFEJZ|        4.5|2 GB|\n",
            "|APPLE iPhone 8 Pl...|https://www.flipk...|Apple|     49900| 49900|                  0|             3431|              356|MOBEXRGVQGYYP8FV|        4.6|2 GB|\n",
            "|APPLE iPhone 8 Pl...|https://www.flipk...|Apple|     49900| 49900|                  0|             3431|              356|MOBEXRGVQKBREZP8|        4.6|2 GB|\n",
            "|APPLE iPhone 8 (S...|https://www.flipk...|Apple|     77000| 77000|                  0|            11202|              794|MOBEXRGVZFZGZEWV|        4.5|2 GB|\n",
            "|APPLE iPhone XS M...|https://www.flipk...|Apple|     89900| 89900|                  0|             1454|              149|MOBF944E2XAHW8V5|        4.6|4 GB|\n",
            "|Apple iPhone XR (...|https://www.flipk...|Apple|     41999| 52900|                 20|            79512|             6796|MOBF9Z7ZHQC23PWQ|        4.6|4 GB|\n",
            "|Apple iPhone XR (...|https://www.flipk...|Apple|     39999| 47900|                 16|            79512|             6796|MOBF9Z7ZPHGV4GNH|        4.6|4 GB|\n",
            "|Apple iPhone XR (...|https://www.flipk...|Apple|     41999| 52900|                 20|            79582|             6804|MOBF9Z7ZS6GF5UAP|        4.6|4 GB|\n",
            "|Apple iPhone XR (...|https://www.flipk...|Apple|     41999| 52900|                 20|            79512|             6796|MOBF9Z7ZYWNFGZUC|        4.6|3 GB|\n",
            "|Apple iPhone XR (...|https://www.flipk...|Apple|     41999| 52900|                 20|            79512|             6796|MOBF9Z7ZZY3HCDZZ|        4.6|4 GB|\n",
            "|APPLE iPhone 11 P...|https://www.flipk...|Apple|    131900|131900|                  0|             1078|              101|MOBFKCTS7HCHSPFH|        4.7|4 GB|\n",
            "|APPLE iPhone 11 P...|https://www.flipk...|Apple|    117100|117100|                  0|             1078|              101|MOBFKCTSAPAYNSGG|        4.7|4 GB|\n",
            "|APPLE iPhone 11 P...|https://www.flipk...|Apple|    131900|131900|                  0|             1078|              101|MOBFKCTSCAAKGQV7|        4.7|4 GB|\n",
            "|APPLE iPhone 11 P...|https://www.flipk...|Apple|    117100|117100|                  0|             1078|              101|MOBFKCTSKDMKCGQS|        4.7|4 GB|\n",
            "|APPLE iPhone 11 P...|https://www.flipk...|Apple|     74999|106600|                 29|             7088|              523|MOBFKCTSN3TG3RFJ|        4.6|4 GB|\n",
            "|APPLE iPhone 11 P...|https://www.flipk...|Apple|    117900|140300|                 15|             7088|              523|MOBFKCTSRTHRQTFT|        4.6|4 GB|\n",
            "+--------------------+--------------------+-----+----------+------+-------------------+-----------------+-----------------+----------------+-----------+----+\n",
            "only showing top 20 rows\n",
            "\n"
          ]
        }
      ],
      "source": [
        "df_pyspark = spark.read.csv('apple_products.csv', header = True, inferSchema = True)\n",
        "df_pyspark.show()"
      ]
    },
    {
      "cell_type": "code",
      "execution_count": 107,
      "metadata": {
        "colab": {
          "base_uri": "https://localhost:8080/",
          "height": 187
        },
        "id": "1UDC4s7rRmbS",
        "outputId": "19998610-65e0-4f3f-d48f-a3bca7b7a9f5"
      },
      "outputs": [
        {
          "data": {
            "text/html": [
              "<div style=\"max-width:800px; border: 1px solid var(--colab-border-color);\"><style>\n",
              "      pre.function-repr-contents {\n",
              "        overflow-x: auto;\n",
              "        padding: 8px 12px;\n",
              "        max-height: 500px;\n",
              "      }\n",
              "\n",
              "      pre.function-repr-contents.function-repr-contents-collapsed {\n",
              "        cursor: pointer;\n",
              "        max-height: 100px;\n",
              "      }\n",
              "    </style>\n",
              "    <pre style=\"white-space: initial; background:\n",
              "         var(--colab-secondary-surface-color); padding: 8px 12px;\n",
              "         border-bottom: 1px solid var(--colab-border-color);\"><b>pyspark.sql.dataframe.DataFrame</b><br/>def __init__(jdf: JavaObject, sql_ctx: Union[&#x27;SQLContext&#x27;, &#x27;SparkSession&#x27;])</pre><pre class=\"function-repr-contents function-repr-contents-collapsed\" style=\"\"><a class=\"filepath\" style=\"display:none\" href=\"#\">/usr/local/lib/python3.10/dist-packages/pyspark/sql/dataframe.py</a>A distributed collection of data grouped into named columns.\n",
              "\n",
              ".. versionadded:: 1.3.0\n",
              "\n",
              ".. versionchanged:: 3.4.0\n",
              "    Supports Spark Connect.\n",
              "\n",
              "Examples\n",
              "--------\n",
              "A :class:`DataFrame` is equivalent to a relational table in Spark SQL,\n",
              "and can be created using various functions in :class:`SparkSession`:\n",
              "\n",
              "&gt;&gt;&gt; people = spark.createDataFrame([\n",
              "...     {&quot;deptId&quot;: 1, &quot;age&quot;: 40, &quot;name&quot;: &quot;Hyukjin Kwon&quot;, &quot;gender&quot;: &quot;M&quot;, &quot;salary&quot;: 50},\n",
              "...     {&quot;deptId&quot;: 1, &quot;age&quot;: 50, &quot;name&quot;: &quot;Takuya Ueshin&quot;, &quot;gender&quot;: &quot;M&quot;, &quot;salary&quot;: 100},\n",
              "...     {&quot;deptId&quot;: 2, &quot;age&quot;: 60, &quot;name&quot;: &quot;Xinrong Meng&quot;, &quot;gender&quot;: &quot;F&quot;, &quot;salary&quot;: 150},\n",
              "...     {&quot;deptId&quot;: 3, &quot;age&quot;: 20, &quot;name&quot;: &quot;Haejoon Lee&quot;, &quot;gender&quot;: &quot;M&quot;, &quot;salary&quot;: 200}\n",
              "... ])\n",
              "\n",
              "Once created, it can be manipulated using the various domain-specific-language\n",
              "(DSL) functions defined in: :class:`DataFrame`, :class:`Column`.\n",
              "\n",
              "To select a column from the :class:`DataFrame`, use the apply method:\n",
              "\n",
              "&gt;&gt;&gt; age_col = people.age\n",
              "\n",
              "A more concrete example:\n",
              "\n",
              "&gt;&gt;&gt; # To create DataFrame using SparkSession\n",
              "... department = spark.createDataFrame([\n",
              "...     {&quot;id&quot;: 1, &quot;name&quot;: &quot;PySpark&quot;},\n",
              "...     {&quot;id&quot;: 2, &quot;name&quot;: &quot;ML&quot;},\n",
              "...     {&quot;id&quot;: 3, &quot;name&quot;: &quot;Spark SQL&quot;}\n",
              "... ])\n",
              "\n",
              "&gt;&gt;&gt; people.filter(people.age &gt; 30).join(\n",
              "...     department, people.deptId == department.id).groupBy(\n",
              "...     department.name, &quot;gender&quot;).agg({&quot;salary&quot;: &quot;avg&quot;, &quot;age&quot;: &quot;max&quot;}).show()\n",
              "+-------+------+-----------+--------+\n",
              "|   name|gender|avg(salary)|max(age)|\n",
              "+-------+------+-----------+--------+\n",
              "|     ML|     F|      150.0|      60|\n",
              "|PySpark|     M|       75.0|      50|\n",
              "+-------+------+-----------+--------+\n",
              "\n",
              "Notes\n",
              "-----\n",
              "A DataFrame should only be created as described above. It should not be directly\n",
              "created via using the constructor.</pre>\n",
              "      <script>\n",
              "      if (google.colab.kernel.accessAllowed && google.colab.files && google.colab.files.view) {\n",
              "        for (const element of document.querySelectorAll('.filepath')) {\n",
              "          element.style.display = 'block'\n",
              "          element.onclick = (event) => {\n",
              "            event.preventDefault();\n",
              "            event.stopPropagation();\n",
              "            google.colab.files.view(element.textContent, 80);\n",
              "          };\n",
              "        }\n",
              "      }\n",
              "      for (const element of document.querySelectorAll('.function-repr-contents')) {\n",
              "        element.onclick = (event) => {\n",
              "          event.preventDefault();\n",
              "          event.stopPropagation();\n",
              "          element.classList.toggle('function-repr-contents-collapsed');\n",
              "        };\n",
              "      }\n",
              "      </script>\n",
              "      </div>"
            ],
            "text/plain": [
              "pyspark.sql.dataframe.DataFrame"
            ]
          },
          "execution_count": 107,
          "metadata": {},
          "output_type": "execute_result"
        }
      ],
      "source": [
        "type(df_pyspark)"
      ]
    },
    {
      "cell_type": "code",
      "execution_count": 108,
      "metadata": {
        "colab": {
          "base_uri": "https://localhost:8080/"
        },
        "id": "e7HTqWV5RqXr",
        "outputId": "cd5ce9de-01fd-4a52-cc3b-6a4be8a9ffbc"
      },
      "outputs": [
        {
          "data": {
            "text/plain": [
              "['Product Name',\n",
              " 'Product URL',\n",
              " 'Brand',\n",
              " 'Sale Price',\n",
              " 'Mrp',\n",
              " 'Discount Percentage',\n",
              " 'Number Of Ratings',\n",
              " 'Number Of Reviews',\n",
              " 'Upc',\n",
              " 'Star Rating',\n",
              " 'Ram']"
            ]
          },
          "execution_count": 108,
          "metadata": {},
          "output_type": "execute_result"
        }
      ],
      "source": [
        "# get column types\n",
        "\n",
        "df_pyspark.columns"
      ]
    },
    {
      "cell_type": "code",
      "execution_count": 109,
      "metadata": {
        "colab": {
          "base_uri": "https://localhost:8080/"
        },
        "id": "FbrfQ_8XR61F",
        "outputId": "b280fa6d-0345-41d8-feed-be618530f7e6"
      },
      "outputs": [
        {
          "data": {
            "text/plain": [
              "[Row(Product Name='APPLE iPhone 8 Plus (Gold, 64 GB)', Product URL='https://www.flipkart.com/apple-iphone-8-plus-gold-64-gb/p/itmexrgvuzgzttzh?pid=MOBEXRGV7EHHTGUH', Brand='Apple', Sale Price=49900, Mrp=49900, Discount Percentage=0, Number Of Ratings=3431, Number Of Reviews=356, Upc='MOBEXRGV7EHHTGUH', Star Rating=4.6, Ram='2 GB'),\n",
              " Row(Product Name='APPLE iPhone 8 Plus (Space Grey, 256 GB)', Product URL='https://www.flipkart.com/apple-iphone-8-plus-space-grey-256-gb/p/itmexrgvzkbyqgtf?pid=MOBEXRGVAC6TJT4F', Brand='Apple', Sale Price=84900, Mrp=84900, Discount Percentage=0, Number Of Ratings=3431, Number Of Reviews=356, Upc='MOBEXRGVAC6TJT4F', Star Rating=4.6, Ram='2 GB'),\n",
              " Row(Product Name='APPLE iPhone 8 Plus (Silver, 256 GB)', Product URL='https://www.flipkart.com/apple-iphone-8-plus-silver-256-gb/p/itmexrgvxatuyrqw?pid=MOBEXRGVGETABXWZ', Brand='Apple', Sale Price=84900, Mrp=84900, Discount Percentage=0, Number Of Ratings=3431, Number Of Reviews=356, Upc='MOBEXRGVGETABXWZ', Star Rating=4.6, Ram='2 GB')]"
            ]
          },
          "execution_count": 109,
          "metadata": {},
          "output_type": "execute_result"
        }
      ],
      "source": [
        "df_pyspark.head(3)"
      ]
    },
    {
      "cell_type": "code",
      "execution_count": 110,
      "metadata": {
        "colab": {
          "base_uri": "https://localhost:8080/"
        },
        "id": "0F7tiXcxSB6E",
        "outputId": "350ca00d-f9d7-44c0-90c6-5524238d9798"
      },
      "outputs": [
        {
          "name": "stdout",
          "output_type": "stream",
          "text": [
            "+--------------------+--------------------+-----+----------+------+-------------------+-----------------+-----------------+----------------+-----------+----+\n",
            "|        Product Name|         Product URL|Brand|Sale Price|   Mrp|Discount Percentage|Number Of Ratings|Number Of Reviews|             Upc|Star Rating| Ram|\n",
            "+--------------------+--------------------+-----+----------+------+-------------------+-----------------+-----------------+----------------+-----------+----+\n",
            "|APPLE iPhone 8 Pl...|https://www.flipk...|Apple|     49900| 49900|                  0|             3431|              356|MOBEXRGV7EHHTGUH|        4.6|2 GB|\n",
            "|APPLE iPhone 8 Pl...|https://www.flipk...|Apple|     84900| 84900|                  0|             3431|              356|MOBEXRGVAC6TJT4F|        4.6|2 GB|\n",
            "|APPLE iPhone 8 Pl...|https://www.flipk...|Apple|     84900| 84900|                  0|             3431|              356|MOBEXRGVGETABXWZ|        4.6|2 GB|\n",
            "|APPLE iPhone 8 (S...|https://www.flipk...|Apple|     77000| 77000|                  0|            11202|              794|MOBEXRGVMZWUHCBA|        4.5|2 GB|\n",
            "|APPLE iPhone 8 (G...|https://www.flipk...|Apple|     77000| 77000|                  0|            11202|              794|MOBEXRGVPK7PFEJZ|        4.5|2 GB|\n",
            "|APPLE iPhone 8 Pl...|https://www.flipk...|Apple|     49900| 49900|                  0|             3431|              356|MOBEXRGVQGYYP8FV|        4.6|2 GB|\n",
            "|APPLE iPhone 8 Pl...|https://www.flipk...|Apple|     49900| 49900|                  0|             3431|              356|MOBEXRGVQKBREZP8|        4.6|2 GB|\n",
            "|APPLE iPhone 8 (S...|https://www.flipk...|Apple|     77000| 77000|                  0|            11202|              794|MOBEXRGVZFZGZEWV|        4.5|2 GB|\n",
            "|APPLE iPhone XS M...|https://www.flipk...|Apple|     89900| 89900|                  0|             1454|              149|MOBF944E2XAHW8V5|        4.6|4 GB|\n",
            "|Apple iPhone XR (...|https://www.flipk...|Apple|     41999| 52900|                 20|            79512|             6796|MOBF9Z7ZHQC23PWQ|        4.6|4 GB|\n",
            "|Apple iPhone XR (...|https://www.flipk...|Apple|     39999| 47900|                 16|            79512|             6796|MOBF9Z7ZPHGV4GNH|        4.6|4 GB|\n",
            "|Apple iPhone XR (...|https://www.flipk...|Apple|     41999| 52900|                 20|            79582|             6804|MOBF9Z7ZS6GF5UAP|        4.6|4 GB|\n",
            "|Apple iPhone XR (...|https://www.flipk...|Apple|     41999| 52900|                 20|            79512|             6796|MOBF9Z7ZYWNFGZUC|        4.6|3 GB|\n",
            "|Apple iPhone XR (...|https://www.flipk...|Apple|     41999| 52900|                 20|            79512|             6796|MOBF9Z7ZZY3HCDZZ|        4.6|4 GB|\n",
            "|APPLE iPhone 11 P...|https://www.flipk...|Apple|    131900|131900|                  0|             1078|              101|MOBFKCTS7HCHSPFH|        4.7|4 GB|\n",
            "|APPLE iPhone 11 P...|https://www.flipk...|Apple|    117100|117100|                  0|             1078|              101|MOBFKCTSAPAYNSGG|        4.7|4 GB|\n",
            "|APPLE iPhone 11 P...|https://www.flipk...|Apple|    131900|131900|                  0|             1078|              101|MOBFKCTSCAAKGQV7|        4.7|4 GB|\n",
            "|APPLE iPhone 11 P...|https://www.flipk...|Apple|    117100|117100|                  0|             1078|              101|MOBFKCTSKDMKCGQS|        4.7|4 GB|\n",
            "|APPLE iPhone 11 P...|https://www.flipk...|Apple|     74999|106600|                 29|             7088|              523|MOBFKCTSN3TG3RFJ|        4.6|4 GB|\n",
            "|APPLE iPhone 11 P...|https://www.flipk...|Apple|    117900|140300|                 15|             7088|              523|MOBFKCTSRTHRQTFT|        4.6|4 GB|\n",
            "+--------------------+--------------------+-----+----------+------+-------------------+-----------------+-----------------+----------------+-----------+----+\n",
            "only showing top 20 rows\n",
            "\n"
          ]
        }
      ],
      "source": [
        "df_pyspark.show()"
      ]
    },
    {
      "cell_type": "code",
      "execution_count": 111,
      "metadata": {
        "colab": {
          "base_uri": "https://localhost:8080/"
        },
        "id": "h8j8aVyqSLW3",
        "outputId": "edc2f63a-3fbb-4691-8bac-2335dd7bebea"
      },
      "outputs": [
        {
          "data": {
            "text/plain": [
              "DataFrame[Product Name: string]"
            ]
          },
          "execution_count": 111,
          "metadata": {},
          "output_type": "execute_result"
        }
      ],
      "source": [
        "df_pyspark.select('Product Name')"
      ]
    },
    {
      "cell_type": "code",
      "execution_count": 112,
      "metadata": {
        "colab": {
          "base_uri": "https://localhost:8080/",
          "height": 187
        },
        "id": "MMyAY-mYSdRa",
        "outputId": "96ac8046-8d92-4e5a-d02b-9cd3a42d404d"
      },
      "outputs": [
        {
          "data": {
            "text/html": [
              "<div style=\"max-width:800px; border: 1px solid var(--colab-border-color);\"><style>\n",
              "      pre.function-repr-contents {\n",
              "        overflow-x: auto;\n",
              "        padding: 8px 12px;\n",
              "        max-height: 500px;\n",
              "      }\n",
              "\n",
              "      pre.function-repr-contents.function-repr-contents-collapsed {\n",
              "        cursor: pointer;\n",
              "        max-height: 100px;\n",
              "      }\n",
              "    </style>\n",
              "    <pre style=\"white-space: initial; background:\n",
              "         var(--colab-secondary-surface-color); padding: 8px 12px;\n",
              "         border-bottom: 1px solid var(--colab-border-color);\"><b>pyspark.sql.dataframe.DataFrame</b><br/>def __init__(jdf: JavaObject, sql_ctx: Union[&#x27;SQLContext&#x27;, &#x27;SparkSession&#x27;])</pre><pre class=\"function-repr-contents function-repr-contents-collapsed\" style=\"\"><a class=\"filepath\" style=\"display:none\" href=\"#\">/usr/local/lib/python3.10/dist-packages/pyspark/sql/dataframe.py</a>A distributed collection of data grouped into named columns.\n",
              "\n",
              ".. versionadded:: 1.3.0\n",
              "\n",
              ".. versionchanged:: 3.4.0\n",
              "    Supports Spark Connect.\n",
              "\n",
              "Examples\n",
              "--------\n",
              "A :class:`DataFrame` is equivalent to a relational table in Spark SQL,\n",
              "and can be created using various functions in :class:`SparkSession`:\n",
              "\n",
              "&gt;&gt;&gt; people = spark.createDataFrame([\n",
              "...     {&quot;deptId&quot;: 1, &quot;age&quot;: 40, &quot;name&quot;: &quot;Hyukjin Kwon&quot;, &quot;gender&quot;: &quot;M&quot;, &quot;salary&quot;: 50},\n",
              "...     {&quot;deptId&quot;: 1, &quot;age&quot;: 50, &quot;name&quot;: &quot;Takuya Ueshin&quot;, &quot;gender&quot;: &quot;M&quot;, &quot;salary&quot;: 100},\n",
              "...     {&quot;deptId&quot;: 2, &quot;age&quot;: 60, &quot;name&quot;: &quot;Xinrong Meng&quot;, &quot;gender&quot;: &quot;F&quot;, &quot;salary&quot;: 150},\n",
              "...     {&quot;deptId&quot;: 3, &quot;age&quot;: 20, &quot;name&quot;: &quot;Haejoon Lee&quot;, &quot;gender&quot;: &quot;M&quot;, &quot;salary&quot;: 200}\n",
              "... ])\n",
              "\n",
              "Once created, it can be manipulated using the various domain-specific-language\n",
              "(DSL) functions defined in: :class:`DataFrame`, :class:`Column`.\n",
              "\n",
              "To select a column from the :class:`DataFrame`, use the apply method:\n",
              "\n",
              "&gt;&gt;&gt; age_col = people.age\n",
              "\n",
              "A more concrete example:\n",
              "\n",
              "&gt;&gt;&gt; # To create DataFrame using SparkSession\n",
              "... department = spark.createDataFrame([\n",
              "...     {&quot;id&quot;: 1, &quot;name&quot;: &quot;PySpark&quot;},\n",
              "...     {&quot;id&quot;: 2, &quot;name&quot;: &quot;ML&quot;},\n",
              "...     {&quot;id&quot;: 3, &quot;name&quot;: &quot;Spark SQL&quot;}\n",
              "... ])\n",
              "\n",
              "&gt;&gt;&gt; people.filter(people.age &gt; 30).join(\n",
              "...     department, people.deptId == department.id).groupBy(\n",
              "...     department.name, &quot;gender&quot;).agg({&quot;salary&quot;: &quot;avg&quot;, &quot;age&quot;: &quot;max&quot;}).show()\n",
              "+-------+------+-----------+--------+\n",
              "|   name|gender|avg(salary)|max(age)|\n",
              "+-------+------+-----------+--------+\n",
              "|     ML|     F|      150.0|      60|\n",
              "|PySpark|     M|       75.0|      50|\n",
              "+-------+------+-----------+--------+\n",
              "\n",
              "Notes\n",
              "-----\n",
              "A DataFrame should only be created as described above. It should not be directly\n",
              "created via using the constructor.</pre>\n",
              "      <script>\n",
              "      if (google.colab.kernel.accessAllowed && google.colab.files && google.colab.files.view) {\n",
              "        for (const element of document.querySelectorAll('.filepath')) {\n",
              "          element.style.display = 'block'\n",
              "          element.onclick = (event) => {\n",
              "            event.preventDefault();\n",
              "            event.stopPropagation();\n",
              "            google.colab.files.view(element.textContent, 80);\n",
              "          };\n",
              "        }\n",
              "      }\n",
              "      for (const element of document.querySelectorAll('.function-repr-contents')) {\n",
              "        element.onclick = (event) => {\n",
              "          event.preventDefault();\n",
              "          event.stopPropagation();\n",
              "          element.classList.toggle('function-repr-contents-collapsed');\n",
              "        };\n",
              "      }\n",
              "      </script>\n",
              "      </div>"
            ],
            "text/plain": [
              "pyspark.sql.dataframe.DataFrame"
            ]
          },
          "execution_count": 112,
          "metadata": {},
          "output_type": "execute_result"
        }
      ],
      "source": [
        "type(df_pyspark.select('Product Name'))"
      ]
    },
    {
      "cell_type": "code",
      "execution_count": 113,
      "metadata": {
        "colab": {
          "base_uri": "https://localhost:8080/"
        },
        "id": "CfXhOr9aSVw-",
        "outputId": "c65aa919-eed2-4f16-8b0b-fd14633c94dc"
      },
      "outputs": [
        {
          "name": "stdout",
          "output_type": "stream",
          "text": [
            "+--------------------+\n",
            "|        Product Name|\n",
            "+--------------------+\n",
            "|APPLE iPhone 8 Pl...|\n",
            "|APPLE iPhone 8 Pl...|\n",
            "|APPLE iPhone 8 Pl...|\n",
            "+--------------------+\n",
            "only showing top 3 rows\n",
            "\n"
          ]
        }
      ],
      "source": [
        "df_pyspark.select('Product Name').show(3)"
      ]
    },
    {
      "cell_type": "code",
      "execution_count": 114,
      "metadata": {
        "colab": {
          "base_uri": "https://localhost:8080/"
        },
        "id": "0pkR_r_fShs2",
        "outputId": "6e211195-8ade-43f1-94c4-7048f0cb54b1"
      },
      "outputs": [
        {
          "data": {
            "text/plain": [
              "DataFrame[Product Name: string, Sale Price: int]"
            ]
          },
          "execution_count": 114,
          "metadata": {},
          "output_type": "execute_result"
        }
      ],
      "source": [
        "df_pyspark.select(['Product Name', 'Sale Price'])"
      ]
    },
    {
      "cell_type": "code",
      "execution_count": 115,
      "metadata": {
        "colab": {
          "base_uri": "https://localhost:8080/"
        },
        "id": "hXPmUxhBSuiW",
        "outputId": "c95beaf5-0f25-4a97-c01e-f6c17d6c2cbf"
      },
      "outputs": [
        {
          "name": "stdout",
          "output_type": "stream",
          "text": [
            "+--------------------+----------+\n",
            "|        Product Name|Sale Price|\n",
            "+--------------------+----------+\n",
            "|APPLE iPhone 8 Pl...|     49900|\n",
            "|APPLE iPhone 8 Pl...|     84900|\n",
            "+--------------------+----------+\n",
            "only showing top 2 rows\n",
            "\n"
          ]
        }
      ],
      "source": [
        "df_pyspark.select(['Product Name', 'Sale Price']).show(2)"
      ]
    },
    {
      "cell_type": "code",
      "execution_count": 116,
      "metadata": {
        "colab": {
          "base_uri": "https://localhost:8080/"
        },
        "id": "qktGX5PVSxVv",
        "outputId": "1949a750-949d-49a5-abca-a499a981b092"
      },
      "outputs": [
        {
          "data": {
            "text/plain": [
              "Column<'Product Name'>"
            ]
          },
          "execution_count": 116,
          "metadata": {},
          "output_type": "execute_result"
        }
      ],
      "source": [
        "df_pyspark['Product Name']"
      ]
    },
    {
      "cell_type": "code",
      "execution_count": 117,
      "metadata": {
        "colab": {
          "base_uri": "https://localhost:8080/"
        },
        "id": "xApVz8_fS-TT",
        "outputId": "70e9b702-ce70-4f83-e7b4-6611b9e22e1a"
      },
      "outputs": [
        {
          "data": {
            "text/plain": [
              "[('Product Name', 'string'),\n",
              " ('Product URL', 'string'),\n",
              " ('Brand', 'string'),\n",
              " ('Sale Price', 'int'),\n",
              " ('Mrp', 'int'),\n",
              " ('Discount Percentage', 'int'),\n",
              " ('Number Of Ratings', 'int'),\n",
              " ('Number Of Reviews', 'int'),\n",
              " ('Upc', 'string'),\n",
              " ('Star Rating', 'double'),\n",
              " ('Ram', 'string')]"
            ]
          },
          "execution_count": 117,
          "metadata": {},
          "output_type": "execute_result"
        }
      ],
      "source": [
        "# Check datatypes of columns another way\n",
        "df_pyspark.dtypes"
      ]
    },
    {
      "cell_type": "code",
      "execution_count": 118,
      "metadata": {
        "colab": {
          "base_uri": "https://localhost:8080/"
        },
        "id": "8JerQz7nTfzQ",
        "outputId": "ceecad2f-98e0-490d-9b0e-4d2cc17e44c5"
      },
      "outputs": [
        {
          "data": {
            "text/plain": [
              "DataFrame[summary: string, Product Name: string, Product URL: string, Brand: string, Sale Price: string, Mrp: string, Discount Percentage: string, Number Of Ratings: string, Number Of Reviews: string, Upc: string, Star Rating: string, Ram: string]"
            ]
          },
          "execution_count": 118,
          "metadata": {},
          "output_type": "execute_result"
        }
      ],
      "source": [
        "df_pyspark.describe()"
      ]
    },
    {
      "cell_type": "code",
      "execution_count": 119,
      "metadata": {
        "colab": {
          "base_uri": "https://localhost:8080/"
        },
        "id": "yJoVZzUSTpSx",
        "outputId": "dd22ae37-77f5-427d-f815-c04eba3b40d3"
      },
      "outputs": [
        {
          "name": "stdout",
          "output_type": "stream",
          "text": [
            "+-------+--------------------+--------------------+-----+-----------------+------------------+-------------------+-----------------+------------------+----------------+-------------------+----+\n",
            "|summary|        Product Name|         Product URL|Brand|       Sale Price|               Mrp|Discount Percentage|Number Of Ratings| Number Of Reviews|             Upc|        Star Rating| Ram|\n",
            "+-------+--------------------+--------------------+-----+-----------------+------------------+-------------------+-----------------+------------------+----------------+-------------------+----+\n",
            "|  count|                  62|                  62|   62|               62|                62|                 62|               62|                62|              62|                 62|  62|\n",
            "|   mean|                NULL|                NULL| NULL| 80073.8870967742| 88058.06451612903|  9.951612903225806|22420.40322580645|1861.6774193548388|            NULL|  4.575806451612904|NULL|\n",
            "| stddev|                NULL|                NULL| NULL|34310.44613243489|34728.825596901945|  7.608079009076823|33768.58955022837|2855.8838302026406|            NULL|0.05918984148266887|NULL|\n",
            "|    min|APPLE iPhone 11 (...|https://www.flipk...|Apple|            29999|             39900|                  0|              542|                42|MOBEXRGV7EHHTGUH|                4.5|2 GB|\n",
            "|    max|Apple iPhone XR (...|https://www.flipk...|Apple|           140900|            149900|                 29|            95909|              8161|MOBFWQ6BYYV3FCU7|                4.7|6 GB|\n",
            "+-------+--------------------+--------------------+-----+-----------------+------------------+-------------------+-----------------+------------------+----------------+-------------------+----+\n",
            "\n"
          ]
        }
      ],
      "source": [
        "df_pyspark.describe().show()"
      ]
    },
    {
      "cell_type": "code",
      "execution_count": 120,
      "metadata": {
        "colab": {
          "base_uri": "https://localhost:8080/"
        },
        "id": "4Sqa4k84U9Qt",
        "outputId": "2ca218ee-a0ee-4454-9aca-3d81b35971a8"
      },
      "outputs": [
        {
          "name": "stdout",
          "output_type": "stream",
          "text": [
            "DataFrame[Product Name: string, Product URL: string, Brand: string, Sale Price: int, Mrp: int, Discount Percentage: int, Number Of Ratings: int, Number Of Reviews: int, Upc: string, Star Rating: double, Ram: string]\n"
          ]
        }
      ],
      "source": [
        "print(df_pyspark)"
      ]
    },
    {
      "cell_type": "code",
      "execution_count": 121,
      "metadata": {
        "colab": {
          "base_uri": "https://localhost:8080/"
        },
        "id": "Z0WP5OnuVHOo",
        "outputId": "9d48e25f-9c2a-42b0-9c1a-0306ba5b8471"
      },
      "outputs": [
        {
          "data": {
            "text/plain": [
              "DataFrame[Product Name: string, Product URL: string, Brand: string, Sale Price: int, Mrp: int, Discount Percentage: int, Number Of Ratings: int, Number Of Reviews: int, Upc: string, Star Rating: double, Ram: string, Sale Price after 2 years: int]"
            ]
          },
          "execution_count": 121,
          "metadata": {},
          "output_type": "execute_result"
        }
      ],
      "source": [
        "df_pyspark = df_pyspark.withColumn('Sale Price after 2 years', df_pyspark['Sale Price'] + 1000)\n",
        "df_pyspark"
      ]
    },
    {
      "cell_type": "code",
      "execution_count": 122,
      "metadata": {
        "colab": {
          "base_uri": "https://localhost:8080/"
        },
        "id": "sy7v13ZZVMCE",
        "outputId": "61edaea9-d876-4653-86c0-0ee941b1d261"
      },
      "outputs": [
        {
          "name": "stdout",
          "output_type": "stream",
          "text": [
            "+--------------------+--------------------+-----+----------+-----+-------------------+-----------------+-----------------+----------------+-----------+----+------------------------+\n",
            "|        Product Name|         Product URL|Brand|Sale Price|  Mrp|Discount Percentage|Number Of Ratings|Number Of Reviews|             Upc|Star Rating| Ram|Sale Price after 2 years|\n",
            "+--------------------+--------------------+-----+----------+-----+-------------------+-----------------+-----------------+----------------+-----------+----+------------------------+\n",
            "|APPLE iPhone 8 Pl...|https://www.flipk...|Apple|     49900|49900|                  0|             3431|              356|MOBEXRGV7EHHTGUH|        4.6|2 GB|                   50900|\n",
            "|APPLE iPhone 8 Pl...|https://www.flipk...|Apple|     84900|84900|                  0|             3431|              356|MOBEXRGVAC6TJT4F|        4.6|2 GB|                   85900|\n",
            "+--------------------+--------------------+-----+----------+-----+-------------------+-----------------+-----------------+----------------+-----------+----+------------------------+\n",
            "only showing top 2 rows\n",
            "\n"
          ]
        }
      ],
      "source": [
        "df_pyspark.show(2)"
      ]
    },
    {
      "cell_type": "code",
      "execution_count": 123,
      "metadata": {
        "colab": {
          "base_uri": "https://localhost:8080/"
        },
        "id": "TWdt2b-qVP8J",
        "outputId": "deba57f5-68bb-44ba-da40-af744c66dc45"
      },
      "outputs": [
        {
          "name": "stdout",
          "output_type": "stream",
          "text": [
            "+--------------------+--------------------+-----+----------+------+-------------------+-----------------+-----------------+----------------+-----------+----+\n",
            "|        Product Name|         Product URL|Brand|Sale Price|   Mrp|Discount Percentage|Number Of Ratings|Number Of Reviews|             Upc|Star Rating| Ram|\n",
            "+--------------------+--------------------+-----+----------+------+-------------------+-----------------+-----------------+----------------+-----------+----+\n",
            "|APPLE iPhone 8 Pl...|https://www.flipk...|Apple|     49900| 49900|                  0|             3431|              356|MOBEXRGV7EHHTGUH|        4.6|2 GB|\n",
            "|APPLE iPhone 8 Pl...|https://www.flipk...|Apple|     84900| 84900|                  0|             3431|              356|MOBEXRGVAC6TJT4F|        4.6|2 GB|\n",
            "|APPLE iPhone 8 Pl...|https://www.flipk...|Apple|     84900| 84900|                  0|             3431|              356|MOBEXRGVGETABXWZ|        4.6|2 GB|\n",
            "|APPLE iPhone 8 (S...|https://www.flipk...|Apple|     77000| 77000|                  0|            11202|              794|MOBEXRGVMZWUHCBA|        4.5|2 GB|\n",
            "|APPLE iPhone 8 (G...|https://www.flipk...|Apple|     77000| 77000|                  0|            11202|              794|MOBEXRGVPK7PFEJZ|        4.5|2 GB|\n",
            "|APPLE iPhone 8 Pl...|https://www.flipk...|Apple|     49900| 49900|                  0|             3431|              356|MOBEXRGVQGYYP8FV|        4.6|2 GB|\n",
            "|APPLE iPhone 8 Pl...|https://www.flipk...|Apple|     49900| 49900|                  0|             3431|              356|MOBEXRGVQKBREZP8|        4.6|2 GB|\n",
            "|APPLE iPhone 8 (S...|https://www.flipk...|Apple|     77000| 77000|                  0|            11202|              794|MOBEXRGVZFZGZEWV|        4.5|2 GB|\n",
            "|APPLE iPhone XS M...|https://www.flipk...|Apple|     89900| 89900|                  0|             1454|              149|MOBF944E2XAHW8V5|        4.6|4 GB|\n",
            "|Apple iPhone XR (...|https://www.flipk...|Apple|     41999| 52900|                 20|            79512|             6796|MOBF9Z7ZHQC23PWQ|        4.6|4 GB|\n",
            "|Apple iPhone XR (...|https://www.flipk...|Apple|     39999| 47900|                 16|            79512|             6796|MOBF9Z7ZPHGV4GNH|        4.6|4 GB|\n",
            "|Apple iPhone XR (...|https://www.flipk...|Apple|     41999| 52900|                 20|            79582|             6804|MOBF9Z7ZS6GF5UAP|        4.6|4 GB|\n",
            "|Apple iPhone XR (...|https://www.flipk...|Apple|     41999| 52900|                 20|            79512|             6796|MOBF9Z7ZYWNFGZUC|        4.6|3 GB|\n",
            "|Apple iPhone XR (...|https://www.flipk...|Apple|     41999| 52900|                 20|            79512|             6796|MOBF9Z7ZZY3HCDZZ|        4.6|4 GB|\n",
            "|APPLE iPhone 11 P...|https://www.flipk...|Apple|    131900|131900|                  0|             1078|              101|MOBFKCTS7HCHSPFH|        4.7|4 GB|\n",
            "|APPLE iPhone 11 P...|https://www.flipk...|Apple|    117100|117100|                  0|             1078|              101|MOBFKCTSAPAYNSGG|        4.7|4 GB|\n",
            "|APPLE iPhone 11 P...|https://www.flipk...|Apple|    131900|131900|                  0|             1078|              101|MOBFKCTSCAAKGQV7|        4.7|4 GB|\n",
            "|APPLE iPhone 11 P...|https://www.flipk...|Apple|    117100|117100|                  0|             1078|              101|MOBFKCTSKDMKCGQS|        4.7|4 GB|\n",
            "|APPLE iPhone 11 P...|https://www.flipk...|Apple|     74999|106600|                 29|             7088|              523|MOBFKCTSN3TG3RFJ|        4.6|4 GB|\n",
            "|APPLE iPhone 11 P...|https://www.flipk...|Apple|    117900|140300|                 15|             7088|              523|MOBFKCTSRTHRQTFT|        4.6|4 GB|\n",
            "+--------------------+--------------------+-----+----------+------+-------------------+-----------------+-----------------+----------------+-----------+----+\n",
            "only showing top 20 rows\n",
            "\n"
          ]
        }
      ],
      "source": [
        "# Drop all the columns\n",
        "\n",
        "df_pyspark.drop('Sale Price after 2 years').show()"
      ]
    },
    {
      "cell_type": "code",
      "execution_count": 124,
      "metadata": {
        "colab": {
          "base_uri": "https://localhost:8080/"
        },
        "id": "7uIDI1zdVwKx",
        "outputId": "0d662096-24be-4da8-cc3c-d5ba99115af0"
      },
      "outputs": [
        {
          "name": "stdout",
          "output_type": "stream",
          "text": [
            "DataFrame[Product Name: string, Product URL: string, Brand: string, Sale Price: int, Mrp: int, Discount Percentage: int, Number Of Ratings: int, Number Of Reviews: int, Upc: string, Star Rating: double, Ram: string, Sale Price after 2 years: int]\n"
          ]
        }
      ],
      "source": [
        "print(df_pyspark)\n",
        "\n",
        "# Observe that Sale Price is not dropped yet"
      ]
    },
    {
      "cell_type": "code",
      "execution_count": 125,
      "metadata": {
        "colab": {
          "base_uri": "https://localhost:8080/"
        },
        "id": "SwoZaQwFV1Hi",
        "outputId": "226d5787-16d5-4580-c82e-c5d67304dd72"
      },
      "outputs": [
        {
          "name": "stdout",
          "output_type": "stream",
          "text": [
            "+--------------------+--------------------+-----+----------+------+-------------------+-----------------+-----------------+----------------+-----------+----+\n",
            "|        Product Name|         Product URL|Brand|Sale Price|   Mrp|Discount Percentage|Number Of Ratings|Number Of Reviews|             Upc|Star Rating| Ram|\n",
            "+--------------------+--------------------+-----+----------+------+-------------------+-----------------+-----------------+----------------+-----------+----+\n",
            "|APPLE iPhone 8 Pl...|https://www.flipk...|Apple|     49900| 49900|                  0|             3431|              356|MOBEXRGV7EHHTGUH|        4.6|2 GB|\n",
            "|APPLE iPhone 8 Pl...|https://www.flipk...|Apple|     84900| 84900|                  0|             3431|              356|MOBEXRGVAC6TJT4F|        4.6|2 GB|\n",
            "|APPLE iPhone 8 Pl...|https://www.flipk...|Apple|     84900| 84900|                  0|             3431|              356|MOBEXRGVGETABXWZ|        4.6|2 GB|\n",
            "|APPLE iPhone 8 (S...|https://www.flipk...|Apple|     77000| 77000|                  0|            11202|              794|MOBEXRGVMZWUHCBA|        4.5|2 GB|\n",
            "|APPLE iPhone 8 (G...|https://www.flipk...|Apple|     77000| 77000|                  0|            11202|              794|MOBEXRGVPK7PFEJZ|        4.5|2 GB|\n",
            "|APPLE iPhone 8 Pl...|https://www.flipk...|Apple|     49900| 49900|                  0|             3431|              356|MOBEXRGVQGYYP8FV|        4.6|2 GB|\n",
            "|APPLE iPhone 8 Pl...|https://www.flipk...|Apple|     49900| 49900|                  0|             3431|              356|MOBEXRGVQKBREZP8|        4.6|2 GB|\n",
            "|APPLE iPhone 8 (S...|https://www.flipk...|Apple|     77000| 77000|                  0|            11202|              794|MOBEXRGVZFZGZEWV|        4.5|2 GB|\n",
            "|APPLE iPhone XS M...|https://www.flipk...|Apple|     89900| 89900|                  0|             1454|              149|MOBF944E2XAHW8V5|        4.6|4 GB|\n",
            "|Apple iPhone XR (...|https://www.flipk...|Apple|     41999| 52900|                 20|            79512|             6796|MOBF9Z7ZHQC23PWQ|        4.6|4 GB|\n",
            "|Apple iPhone XR (...|https://www.flipk...|Apple|     39999| 47900|                 16|            79512|             6796|MOBF9Z7ZPHGV4GNH|        4.6|4 GB|\n",
            "|Apple iPhone XR (...|https://www.flipk...|Apple|     41999| 52900|                 20|            79582|             6804|MOBF9Z7ZS6GF5UAP|        4.6|4 GB|\n",
            "|Apple iPhone XR (...|https://www.flipk...|Apple|     41999| 52900|                 20|            79512|             6796|MOBF9Z7ZYWNFGZUC|        4.6|3 GB|\n",
            "|Apple iPhone XR (...|https://www.flipk...|Apple|     41999| 52900|                 20|            79512|             6796|MOBF9Z7ZZY3HCDZZ|        4.6|4 GB|\n",
            "|APPLE iPhone 11 P...|https://www.flipk...|Apple|    131900|131900|                  0|             1078|              101|MOBFKCTS7HCHSPFH|        4.7|4 GB|\n",
            "|APPLE iPhone 11 P...|https://www.flipk...|Apple|    117100|117100|                  0|             1078|              101|MOBFKCTSAPAYNSGG|        4.7|4 GB|\n",
            "|APPLE iPhone 11 P...|https://www.flipk...|Apple|    131900|131900|                  0|             1078|              101|MOBFKCTSCAAKGQV7|        4.7|4 GB|\n",
            "|APPLE iPhone 11 P...|https://www.flipk...|Apple|    117100|117100|                  0|             1078|              101|MOBFKCTSKDMKCGQS|        4.7|4 GB|\n",
            "|APPLE iPhone 11 P...|https://www.flipk...|Apple|     74999|106600|                 29|             7088|              523|MOBFKCTSN3TG3RFJ|        4.6|4 GB|\n",
            "|APPLE iPhone 11 P...|https://www.flipk...|Apple|    117900|140300|                 15|             7088|              523|MOBFKCTSRTHRQTFT|        4.6|4 GB|\n",
            "+--------------------+--------------------+-----+----------+------+-------------------+-----------------+-----------------+----------------+-----------+----+\n",
            "only showing top 20 rows\n",
            "\n"
          ]
        }
      ],
      "source": [
        "# For dropping it we should assign the drop operation to df_pyspark\n",
        "\n",
        "df_pyspark = df_pyspark.drop('Sale Price after 2 years').show()\n"
      ]
    },
    {
      "cell_type": "code",
      "execution_count": 129,
      "metadata": {
        "colab": {
          "base_uri": "https://localhost:8080/"
        },
        "id": "j4mEvFJJWB0x",
        "outputId": "607d21cd-8525-4127-894b-eb9ee6dac0f0"
      },
      "outputs": [
        {
          "name": "stdout",
          "output_type": "stream",
          "text": [
            "+--------------------+--------------------+-----+----------+------+-------------------+-----------------+-----------------+----------------+-----------+----+\n",
            "|             Product|         Product URL|Brand|Sale Price|   Mrp|Discount Percentage|Number Of Ratings|Number Of Reviews|             Upc|Star Rating| Ram|\n",
            "+--------------------+--------------------+-----+----------+------+-------------------+-----------------+-----------------+----------------+-----------+----+\n",
            "|APPLE iPhone 8 Pl...|https://www.flipk...|Apple|     49900| 49900|                  0|             3431|              356|MOBEXRGV7EHHTGUH|        4.6|2 GB|\n",
            "|APPLE iPhone 8 Pl...|https://www.flipk...|Apple|     84900| 84900|                  0|             3431|              356|MOBEXRGVAC6TJT4F|        4.6|2 GB|\n",
            "|APPLE iPhone 8 Pl...|https://www.flipk...|Apple|     84900| 84900|                  0|             3431|              356|MOBEXRGVGETABXWZ|        4.6|2 GB|\n",
            "|APPLE iPhone 8 (S...|https://www.flipk...|Apple|     77000| 77000|                  0|            11202|              794|MOBEXRGVMZWUHCBA|        4.5|2 GB|\n",
            "|APPLE iPhone 8 (G...|https://www.flipk...|Apple|     77000| 77000|                  0|            11202|              794|MOBEXRGVPK7PFEJZ|        4.5|2 GB|\n",
            "|APPLE iPhone 8 Pl...|https://www.flipk...|Apple|     49900| 49900|                  0|             3431|              356|MOBEXRGVQGYYP8FV|        4.6|2 GB|\n",
            "|APPLE iPhone 8 Pl...|https://www.flipk...|Apple|     49900| 49900|                  0|             3431|              356|MOBEXRGVQKBREZP8|        4.6|2 GB|\n",
            "|APPLE iPhone 8 (S...|https://www.flipk...|Apple|     77000| 77000|                  0|            11202|              794|MOBEXRGVZFZGZEWV|        4.5|2 GB|\n",
            "|APPLE iPhone XS M...|https://www.flipk...|Apple|     89900| 89900|                  0|             1454|              149|MOBF944E2XAHW8V5|        4.6|4 GB|\n",
            "|Apple iPhone XR (...|https://www.flipk...|Apple|     41999| 52900|                 20|            79512|             6796|MOBF9Z7ZHQC23PWQ|        4.6|4 GB|\n",
            "|Apple iPhone XR (...|https://www.flipk...|Apple|     39999| 47900|                 16|            79512|             6796|MOBF9Z7ZPHGV4GNH|        4.6|4 GB|\n",
            "|Apple iPhone XR (...|https://www.flipk...|Apple|     41999| 52900|                 20|            79582|             6804|MOBF9Z7ZS6GF5UAP|        4.6|4 GB|\n",
            "|Apple iPhone XR (...|https://www.flipk...|Apple|     41999| 52900|                 20|            79512|             6796|MOBF9Z7ZYWNFGZUC|        4.6|3 GB|\n",
            "|Apple iPhone XR (...|https://www.flipk...|Apple|     41999| 52900|                 20|            79512|             6796|MOBF9Z7ZZY3HCDZZ|        4.6|4 GB|\n",
            "|APPLE iPhone 11 P...|https://www.flipk...|Apple|    131900|131900|                  0|             1078|              101|MOBFKCTS7HCHSPFH|        4.7|4 GB|\n",
            "|APPLE iPhone 11 P...|https://www.flipk...|Apple|    117100|117100|                  0|             1078|              101|MOBFKCTSAPAYNSGG|        4.7|4 GB|\n",
            "|APPLE iPhone 11 P...|https://www.flipk...|Apple|    131900|131900|                  0|             1078|              101|MOBFKCTSCAAKGQV7|        4.7|4 GB|\n",
            "|APPLE iPhone 11 P...|https://www.flipk...|Apple|    117100|117100|                  0|             1078|              101|MOBFKCTSKDMKCGQS|        4.7|4 GB|\n",
            "|APPLE iPhone 11 P...|https://www.flipk...|Apple|     74999|106600|                 29|             7088|              523|MOBFKCTSN3TG3RFJ|        4.6|4 GB|\n",
            "|APPLE iPhone 11 P...|https://www.flipk...|Apple|    117900|140300|                 15|             7088|              523|MOBFKCTSRTHRQTFT|        4.6|4 GB|\n",
            "+--------------------+--------------------+-----+----------+------+-------------------+-----------------+-----------------+----------------+-----------+----+\n",
            "only showing top 20 rows\n",
            "\n"
          ]
        }
      ],
      "source": [
        "# Assuming you originally created `df_pyspark` properly\n",
        "df_pyspark = df_pyspark.withColumnRenamed('Product Name', 'Product')\n",
        "df_pyspark.show()\n"
      ]
    },
    {
      "cell_type": "code",
      "execution_count": null,
      "metadata": {
        "id": "U5UHjh3DW_Ua"
      },
      "outputs": [],
      "source": [
        "## aextra line "
      ]
    }
  ],
  "metadata": {
    "colab": {
      "provenance": []
    },
    "kernelspec": {
      "display_name": "Python 3",
      "name": "python3"
    },
    "language_info": {
      "name": "python"
    }
  },
  "nbformat": 4,
  "nbformat_minor": 0
}
